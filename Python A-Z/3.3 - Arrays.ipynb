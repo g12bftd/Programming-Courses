{
 "cells": [
  {
   "cell_type": "code",
   "execution_count": 1,
   "metadata": {},
   "outputs": [],
   "source": [
    "l = [1, \"hello\", 3, True, 5, 6, 7] # List is contiguous and contains any data type\n"
   ]
  },
  {
   "cell_type": "code",
   "execution_count": 3,
   "metadata": {},
   "outputs": [],
   "source": [
    "import numpy as np\n",
    "# two types of arrays in python\n",
    "# python array\n",
    "# numpy array"
   ]
  },
  {
   "cell_type": "code",
   "execution_count": 4,
   "metadata": {},
   "outputs": [],
   "source": [
    "a = np.array(l) # convert our list to numpy array\n",
    "\n"
   ]
  },
  {
   "cell_type": "code",
   "execution_count": 6,
   "metadata": {},
   "outputs": [
    {
     "name": "stdout",
     "output_type": "stream",
     "text": [
      "['1' '2' '3.6' 'hello' 'True']\n"
     ]
    }
   ],
   "source": [
    "# arrays can only contain the SAME data type\n",
    "\n",
    "b = [1, 2, 3.6, \"hello\", True]\n",
    "\n",
    "b = np.array(b)\n",
    "print(b)\n",
    "\n",
    "# all inputs of this array are converted into strings\n",
    "# lists are stored along with certain functions/methods that can be applied to said list"
   ]
  },
  {
   "cell_type": "code",
   "execution_count": null,
   "metadata": {},
   "outputs": [],
   "source": []
  }
 ],
 "metadata": {
  "kernelspec": {
   "display_name": "Python 3",
   "language": "python",
   "name": "python3"
  },
  "language_info": {
   "codemirror_mode": {
    "name": "ipython",
    "version": 3
   },
   "file_extension": ".py",
   "mimetype": "text/x-python",
   "name": "python",
   "nbconvert_exporter": "python",
   "pygments_lexer": "ipython3",
   "version": "3.7.0"
  }
 },
 "nbformat": 4,
 "nbformat_minor": 2
}
