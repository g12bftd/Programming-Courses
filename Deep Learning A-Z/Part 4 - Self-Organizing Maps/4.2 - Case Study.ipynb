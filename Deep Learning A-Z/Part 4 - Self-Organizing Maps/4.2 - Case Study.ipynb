{
 "cells": [
  {
   "cell_type": "markdown",
   "metadata": {},
   "source": [
    "### SOM Algorithm"
   ]
  },
  {
   "cell_type": "markdown",
   "metadata": {},
   "source": [
    "1) Start with a dataset of n_featurs independent variables\n",
    "\n",
    "2) Create a grid composed of nodes, each one with a weight vector of n_features\n",
    "\n",
    "3) Randomly initialize the values of weight vectors to small numbers close to 0 but not 0\n",
    "\n",
    "4) Select one random observation point from the dataset\n",
    "\n",
    "5) Compute Euclidean distances from this point to the different neurons in the network\n",
    "\n",
    "6) Winning node = node with minimum distance from our selected point.\n",
    "\n",
    "7) Update weights of the winning node to move it closer to the point.\n",
    "\n",
    "8) Using a Gaussian neighborhood function, update the weights of the winning node neighbors to move them closer to the point. The neighborhood radius is the sigma in the Gaussian function.\n",
    "\n",
    "9) Repeat steps 1-5 and update the weights after each observation (reinforcement learning) or after a batch of observations (batch learning) until the network converges to a point where the neighborhood stops decreasing."
   ]
  },
  {
   "cell_type": "code",
   "execution_count": 1,
   "metadata": {},
   "outputs": [
    {
     "name": "stdout",
     "output_type": "stream",
     "text": [
      "Requirement already satisfied: MiniSom in /opt/anaconda3/lib/python3.7/site-packages (2.2.6)\r\n"
     ]
    }
   ],
   "source": [
    "!pip install MiniSom"
   ]
  },
  {
   "cell_type": "code",
   "execution_count": 2,
   "metadata": {},
   "outputs": [],
   "source": [
    "import numpy as np\n",
    "import pandas as pd\n",
    "import matplotlib.pyplot as plt"
   ]
  },
  {
   "cell_type": "markdown",
   "metadata": {},
   "source": [
    "### Importing dataset"
   ]
  },
  {
   "cell_type": "code",
   "execution_count": 3,
   "metadata": {},
   "outputs": [],
   "source": [
    "# From UCI ML Repo\n",
    "# Statlog (Australian Credit Approval) Dataset\n",
    "dataset = pd.read_csv('Credit_Card_Applications.csv')\n",
    "X = dataset.iloc[:, :-1].values \n",
    "y = dataset.iloc[:, -1].values"
   ]
  },
  {
   "cell_type": "markdown",
   "metadata": {},
   "source": [
    "### Feature Scaling"
   ]
  },
  {
   "cell_type": "code",
   "execution_count": 4,
   "metadata": {},
   "outputs": [],
   "source": [
    "from sklearn.preprocessing import MinMaxScaler\n",
    "sc = MinMaxScaler(feature_range = (0,1))\n",
    "X = sc.fit_transform(X)"
   ]
  },
  {
   "cell_type": "markdown",
   "metadata": {},
   "source": [
    "### Training the SOM"
   ]
  },
  {
   "cell_type": "code",
   "execution_count": 5,
   "metadata": {},
   "outputs": [],
   "source": [
    "from minisom import MiniSom\n",
    "som = MiniSom(x = 10, # length dimension of grid\n",
    "              y = 10, # width dimension of grid\n",
    "              input_len = 15, # number of features in X\n",
    "              sigma = 1.0, # radius of neighborhoods in grid\n",
    "              learning_rate = 0.5)\n",
    "som.random_weights_init(X)\n",
    "som.train_random(data = X, num_iteration = 100)"
   ]
  },
  {
   "cell_type": "markdown",
   "metadata": {},
   "source": [
    "### Visualizing the map"
   ]
  },
  {
   "cell_type": "code",
   "execution_count": 6,
   "metadata": {},
   "outputs": [
    {
     "data": {
      "image/png": "[encoded data removed]",
      "text/plain": [
       "<Figure size 432x288 with 2 Axes>"
      ]
     },
     "metadata": {
      "needs_background": "light"
     },
     "output_type": "display_data"
    }
   ],
   "source": [
    "from pylab import bone, pcolor, colorbar, plot, show\n",
    "bone() # initialize an empty window\n",
    "pcolor(som.distance_map().T) # obtain colors corresponding to Mean Interneuron Distances\n",
    "colorbar() # gives us axes to represent range of color values\n",
    "markers = ['o', 's'] # markers to distinguish approval vs. rejection\n",
    "colors = ['r', 'g'] # colors for our markers\n",
    "\n",
    "# i will index all our customers\n",
    "# x will enumerate the vectors corresponding to each customer\n",
    "for i, x in enumerate(X):\n",
    "    w = som.winner(x) # obtain winning node for customer x\n",
    "    # (w[0], w[1]) = xy coordinate of lower left corner of winning node\n",
    "    plot(w[0] + 0.5,\n",
    "         w[1] + 0.5,\n",
    "         markers[y[i]],\n",
    "         markeredgecolor = colors[y[i]],\n",
    "         markerfacecolor = 'None',\n",
    "         markersize = 10,\n",
    "         markeredgewidth = 2)\n",
    "show()"
   ]
  },
  {
   "cell_type": "markdown",
   "metadata": {},
   "source": [
    "### Idenitfying frauding customers"
   ]
  },
  {
   "cell_type": "code",
   "execution_count": 8,
   "metadata": {},
   "outputs": [],
   "source": [
    "mappings = som.win_map(X)\n",
    "# From our map the coordinates of the likely frauds are\n",
    "# (4, 1) and (5, 3) looking at the lower left corner\n",
    "frauds = np.concatenate((mappings[(1,7)], mappings[(3,5)]), axis = 0)\n",
    "frauds = sc.inverse_transform(frauds)"
   ]
  },
  {
   "cell_type": "code",
   "execution_count": 9,
   "metadata": {},
   "outputs": [
    {
     "name": "stdout",
     "output_type": "stream",
     "text": [
      "Likely Fraud Customer IDs\n",
      "15687688\n",
      "15638610\n",
      "15789611\n",
      "15668679\n",
      "15738487\n",
      "15649160\n",
      "15773421\n",
      "15682686\n",
      "15781875\n",
      "15809837\n",
      "15621244\n",
      "15636521\n",
      "15632789\n",
      "15761554\n",
      "15707602\n",
      "15811690\n",
      "15815095\n",
      "15720725\n",
      "15567834\n",
      "15591035\n",
      "15672912\n",
      "15694677\n",
      "15598614\n",
      "15772941\n",
      "15646190\n",
      "15608804\n",
      "15631267\n",
      "15611189\n",
      "15759387\n",
      "15712483\n",
      "15572361\n",
      "15698522\n",
      "15790254\n",
      "15768600\n",
      "15748552\n",
      "15757467\n",
      "15682576\n",
      "15642391\n",
      "15801441\n",
      "15815443\n",
      "15748432\n",
      "15708714\n",
      "15788131\n",
      "15635244\n",
      "15699963\n",
      "15771856\n",
      "15648876\n",
      "15679394\n",
      "15720644\n",
      "15696287\n",
      "15808023\n",
      "15795079\n",
      "15808386\n",
      "15698749\n",
      "15746258\n",
      "15764841\n",
      "15748649\n",
      "15729718\n",
      "15786539\n",
      "15773776\n",
      "15778345\n",
      "15791769\n",
      "15629133\n",
      "15667588\n",
      "15776494\n"
     ]
    }
   ],
   "source": [
    "print('Likely Fraud Customer IDs')\n",
    "for i in frauds[:, 0]:\n",
    "  print(int(i))"
   ]
  },
  {
   "cell_type": "markdown",
   "metadata": {},
   "source": [
    "### Using an Artifical Neural Network"
   ]
  },
  {
   "cell_type": "code",
   "execution_count": 11,
   "metadata": {},
   "outputs": [],
   "source": [
    "customers = dataset.iloc[:, 1:].values"
   ]
  },
  {
   "cell_type": "code",
   "execution_count": 12,
   "metadata": {},
   "outputs": [],
   "source": [
    "is_fraud = np.zeros(len(dataset))\n",
    "for i in range(len(dataset)):\n",
    "    if (dataset.iloc[i, 0] in frauds):\n",
    "        is_fraud[i] = 1"
   ]
  },
  {
   "cell_type": "code",
   "execution_count": 13,
   "metadata": {},
   "outputs": [],
   "source": [
    "from sklearn.preprocessing import StandardScaler\n",
    "sc_2 = StandardScaler()\n",
    "customers = sc.fit_transform(customers)"
   ]
  },
  {
   "cell_type": "code",
   "execution_count": 18,
   "metadata": {},
   "outputs": [],
   "source": [
    "from keras.models import Sequential\n",
    "from keras.layers import Dense"
   ]
  },
  {
   "cell_type": "code",
   "execution_count": 19,
   "metadata": {},
   "outputs": [],
   "source": [
    "ann_model = Sequential()\n",
    "ann_model.add(Dense(units = 2, activation = \"relu\"))\n",
    "ann_model.add(Dense(units = 1, activation = \"sigmoid\"))\n",
    "ann_model.compile(optimizer = \"adam\",\n",
    "                 loss = \"binary_crossentropy\",\n",
    "                 metrics = [\"accuracy\"])"
   ]
  },
  {
   "cell_type": "code",
   "execution_count": 20,
   "metadata": {},
   "outputs": [
    {
     "name": "stdout",
     "output_type": "stream",
     "text": [
      "Epoch 1/15\n",
      "690/690 [==============================] - 1s 1ms/step - loss: 0.4325 - accuracy: 0.8594\n",
      "Epoch 2/15\n",
      "690/690 [==============================] - 1s 1ms/step - loss: 0.2966 - accuracy: 0.9058\n",
      "Epoch 3/15\n",
      "690/690 [==============================] - 1s 1ms/step - loss: 0.2369 - accuracy: 0.9058\n",
      "Epoch 4/15\n",
      "690/690 [==============================] - 1s 2ms/step - loss: 0.1848 - accuracy: 0.9043\n",
      "Epoch 5/15\n",
      "690/690 [==============================] - 1s 1ms/step - loss: 0.1472 - accuracy: 0.9362\n",
      "Epoch 6/15\n",
      "690/690 [==============================] - 1s 1ms/step - loss: 0.1225 - accuracy: 0.9565\n",
      "Epoch 7/15\n",
      "690/690 [==============================] - 1s 1ms/step - loss: 0.1057 - accuracy: 0.9739\n",
      "Epoch 8/15\n",
      "690/690 [==============================] - 1s 1ms/step - loss: 0.0939 - accuracy: 0.9754\n",
      "Epoch 9/15\n",
      "690/690 [==============================] - 1s 1ms/step - loss: 0.0848 - accuracy: 0.9725\n",
      "Epoch 10/15\n",
      "690/690 [==============================] - 1s 1ms/step - loss: 0.0785 - accuracy: 0.9768\n",
      "Epoch 11/15\n",
      "690/690 [==============================] - 1s 1ms/step - loss: 0.0737 - accuracy: 0.9754\n",
      "Epoch 12/15\n",
      "690/690 [==============================] - 1s 1ms/step - loss: 0.0682 - accuracy: 0.9783\n",
      "Epoch 13/15\n",
      "690/690 [==============================] - 1s 1ms/step - loss: 0.0652 - accuracy: 0.9826\n",
      "Epoch 14/15\n",
      "690/690 [==============================] - 1s 1ms/step - loss: 0.0627 - accuracy: 0.9812\n",
      "Epoch 15/15\n",
      "690/690 [==============================] - 1s 1ms/step - loss: 0.0596 - accuracy: 0.9797\n"
     ]
    },
    {
     "data": {
      "text/plain": [
       "<tensorflow.python.keras.callbacks.History at 0x7fc637abba90>"
      ]
     },
     "execution_count": 20,
     "metadata": {},
     "output_type": "execute_result"
    }
   ],
   "source": [
    "ann_model.fit(x = customers, \n",
    "              y = is_fraud, \n",
    "              batch_size = 1, \n",
    "              epochs = 15)"
   ]
  },
  {
   "cell_type": "markdown",
   "metadata": {},
   "source": [
    "### Predicting test set results"
   ]
  },
  {
   "cell_type": "code",
   "execution_count": 21,
   "metadata": {},
   "outputs": [
    {
     "name": "stdout",
     "output_type": "stream",
     "text": [
      "[[[1.57395480e+07 3.62393260e-03]\n",
      "  [1.57761560e+07 3.63445247e-06]]]\n"
     ]
    }
   ],
   "source": [
    "y_pred = ann_model.predict(customers)\n",
    "y_pred = np.concatenate((dataset.iloc[:, 0:1].values, y_pred), axis = 1)\n",
    "y_pred = y_pred[y_pred[: 1].argsort()]\n",
    "print(y_pred)"
   ]
  }
 ],
 "metadata": {
  "kernelspec": {
   "display_name": "Python 3",
   "language": "python",
   "name": "python3"
  },
  "language_info": {
   "codemirror_mode": {
    "name": "ipython",
    "version": 3
   },
   "file_extension": ".py",
   "mimetype": "text/x-python",
   "name": "python",
   "nbconvert_exporter": "python",
   "pygments_lexer": "ipython3",
   "version": "3.7.6"
  }
 },
 "nbformat": 4,
 "nbformat_minor": 4
}
