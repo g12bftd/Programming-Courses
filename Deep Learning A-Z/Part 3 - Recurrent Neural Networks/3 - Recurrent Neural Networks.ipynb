{
 "cells": [
  {
   "cell_type": "markdown",
   "metadata": {},
   "source": [
    "### Intuition"
   ]
  },
  {
   "cell_type": "markdown",
   "metadata": {},
   "source": [
    "In general, ANNs are useful in regression and classification.\n",
    "CNNs are useful for computer vision. RNNs are particularly useful for time series analysis (e.g. Stock Prediction).\n",
    "\n",
    "The Vanishing Gradient Problem:\n",
    "- Discovered by Sepp Horchreiter in 1991\n",
    "\n",
    "- It can be shown that each weight in the neural network receives an update proportional to the partial derivative of the error function with respect to the current weight in each iteration of training.\n",
    "\n",
    "- In some cases, the gradient will be vanishingly smal, effectively preventing the weight's value from changing. In the worst case, this may completely stop the neural network from further training.\n",
    "\n",
    "- For example, when using activation functions like the hyperbolic tangent function - which has output in the range (0, 1) - backpropagation computes gradients via the chain rule thereby leading to a gradient error that decays exponentially with the size of the network, thereby leading to relatively slow training.\n",
    "\n",
    "LSTM - Long short-term memory:\n",
    "Unlike traditional feedforward neural networks, LSTM networks have feedback connections that help \"remember\" values over arbitrary time intervals.\n"
   ]
  },
  {
   "cell_type": "markdown",
   "metadata": {},
   "source": [
    "### Importing libraries"
   ]
  },
  {
   "cell_type": "code",
   "execution_count": 1,
   "metadata": {},
   "outputs": [],
   "source": [
    "import numpy as np\n",
    "import pandas as pd\n",
    "import matplotlib.pyplot as plt"
   ]
  },
  {
   "cell_type": "markdown",
   "metadata": {},
   "source": [
    "### Importing training set"
   ]
  },
  {
   "cell_type": "code",
   "execution_count": 6,
   "metadata": {},
   "outputs": [
    {
     "data": {
      "text/plain": [
       "array([[325.25],\n",
       "       [331.27],\n",
       "       [329.83],\n",
       "       ...,\n",
       "       [793.7 ],\n",
       "       [783.33],\n",
       "       [782.75]])"
      ]
     },
     "execution_count": 6,
     "metadata": {},
     "output_type": "execute_result"
    }
   ],
   "source": [
    "dataset_train = pd.read_csv('Google_Stock_Price_Train.csv')\n",
    "training_set = dataset_train.iloc[:, 1:2].values\n",
    "training_set"
   ]
  },
  {
   "cell_type": "markdown",
   "metadata": {},
   "source": [
    "### Feature scaling"
   ]
  },
  {
   "cell_type": "code",
   "execution_count": 7,
   "metadata": {},
   "outputs": [],
   "source": [
    "# Perform normalisation\n",
    "# x = (x - min(x)) / range(x) \n",
    "from sklearn.preprocessing import MinMaxScaler\n",
    "sc = MinMaxScaler(feature_range = (0, 1))\n",
    "training_set_scaled = sc.fit_transform(training_set)"
   ]
  },
  {
   "cell_type": "markdown",
   "metadata": {},
   "source": [
    "### Creating new data structure with 60 timesteps and 1 output"
   ]
  },
  {
   "cell_type": "code",
   "execution_count": 10,
   "metadata": {},
   "outputs": [],
   "source": [
    "# at each day t, we want our RNN to consider the 60 preceding days\n",
    "# when predicting the stock price at day t + 1\n",
    "# the time step is a hyperparameter in our case\n",
    "# if the timestep is too low, then there is insufficience info\n",
    "# if the timestep is too high, there will likely be overfitting\n",
    "\n",
    "X_train = []\n",
    "y_train = []\n",
    "set_size = training_set_scaled.size\n",
    "time_step = 60\n",
    "\n",
    "for i in range(time_step, set_size):\n",
    "    X_train.append(training_set_scaled[i-60:i, 0])\n",
    "    y_train.append(training_set_scaled[i, 0])\n",
    "    \n",
    "X_train, y_train = np.array(X_train), np.array(y_train)"
   ]
  },
  {
   "cell_type": "code",
   "execution_count": 11,
   "metadata": {},
   "outputs": [
    {
     "name": "stdout",
     "output_type": "stream",
     "text": [
      "[[0.08581368 0.09701243 0.09433366 ... 0.07846566 0.08034452 0.08497656]\n",
      " [0.09701243 0.09433366 0.09156187 ... 0.08034452 0.08497656 0.08627874]\n",
      " [0.09433366 0.09156187 0.07984225 ... 0.08497656 0.08627874 0.08471612]\n",
      " ...\n",
      " [0.92106928 0.92438053 0.93048218 ... 0.95475854 0.95204256 0.95163331]\n",
      " [0.92438053 0.93048218 0.9299055  ... 0.95204256 0.95163331 0.95725128]\n",
      " [0.93048218 0.9299055  0.93113327 ... 0.95163331 0.95725128 0.93796041]] [0.08627874 0.08471612 0.07454052 ... 0.95725128 0.93796041 0.93688146]\n"
     ]
    }
   ],
   "source": [
    "print(X_train, y_train)"
   ]
  },
  {
   "cell_type": "markdown",
   "metadata": {},
   "source": [
    "### Reshaping our data structure"
   ]
  },
  {
   "cell_type": "code",
   "execution_count": 16,
   "metadata": {},
   "outputs": [],
   "source": [
    "n_rows = X_train.shape[0] \n",
    "n_cols = X_train.shape[1]"
   ]
  },
  {
   "cell_type": "code",
   "execution_count": 17,
   "metadata": {},
   "outputs": [],
   "source": [
    "X_train = np.reshape(X_train, (n_rows, n_cols, 1))"
   ]
  },
  {
   "cell_type": "markdown",
   "metadata": {},
   "source": [
    "### Importing Keras libraries"
   ]
  },
  {
   "cell_type": "code",
   "execution_count": 4,
   "metadata": {},
   "outputs": [],
   "source": [
    "from keras.models import Sequential\n",
    "from keras.layers import (LSTM, Dropout, Dense)"
   ]
  },
  {
   "cell_type": "markdown",
   "metadata": {},
   "source": [
    "### Building the RNN"
   ]
  },
  {
   "cell_type": "code",
   "execution_count": 18,
   "metadata": {},
   "outputs": [],
   "source": [
    "rnn_model = Sequential() #initialization\n",
    "# add 1st LSTM layer with 50 cells/memory units\n",
    "# since we are building a stacked RNN, we need to return the full output sequence\n",
    "rnn_model.add(LSTM(units = 50, return_sequences = True, input_shape = (X_train.shape[1], 1)))\n",
    "rnn_model.add(Dropout(0.2)) # standard 20% neuron dropout to avoid overfitting\n",
    "# add 2nd LSTM layer with 50 cells/memory units\n",
    "rnn_model.add(LSTM(units = 50, return_sequences = True))\n",
    "rnn_model.add(Dropout(0.2))\n",
    "# add 3rd LSTM layer\n",
    "rnn_model.add(LSTM(units = 50, return_sequences = True))\n",
    "rnn_model.add(Dropout(0.2))\n",
    "# add 4th LSTM layer, no need to return sequences (default = false)\n",
    "rnn_model.add(LSTM(units = 50))\n",
    "rnn_model.add(Dropout(0.2))\n",
    "# add output layer\n",
    "rnn_model.add(Dense(units = 1))\n",
    "# Compile RNN with loss function = mean squared loss\n",
    "rnn_model.compile(optimizer = 'adam', \n",
    "                  loss = 'mean_squared_error')"
   ]
  },
  {
   "cell_type": "markdown",
   "metadata": {},
   "source": [
    "### Fit RNN to the training set"
   ]
  },
  {
   "cell_type": "code",
   "execution_count": 19,
   "metadata": {},
   "outputs": [
    {
     "name": "stdout",
     "output_type": "stream",
     "text": [
      "Epoch 1/100\n",
      "38/38 [==============================] - 8s 219ms/step - loss: 0.0326\n",
      "Epoch 2/100\n",
      "38/38 [==============================] - 9s 231ms/step - loss: 0.0060\n",
      "Epoch 3/100\n",
      "38/38 [==============================] - 9s 239ms/step - loss: 0.0054\n",
      "Epoch 4/100\n",
      "38/38 [==============================] - 8s 208ms/step - loss: 0.0055\n",
      "Epoch 5/100\n",
      "38/38 [==============================] - 8s 209ms/step - loss: 0.0061\n",
      "Epoch 6/100\n",
      "38/38 [==============================] - 8s 207ms/step - loss: 0.0052\n",
      "Epoch 7/100\n",
      "38/38 [==============================] - 8s 214ms/step - loss: 0.0043\n",
      "Epoch 8/100\n",
      "38/38 [==============================] - 9s 229ms/step - loss: 0.0044\n",
      "Epoch 9/100\n",
      "38/38 [==============================] - 9s 226ms/step - loss: 0.0050\n",
      "Epoch 10/100\n",
      "38/38 [==============================] - 8s 200ms/step - loss: 0.0044\n",
      "Epoch 11/100\n",
      "38/38 [==============================] - 8s 213ms/step - loss: 0.0051\n",
      "Epoch 12/100\n",
      "38/38 [==============================] - 8s 215ms/step - loss: 0.0051\n",
      "Epoch 13/100\n",
      "38/38 [==============================] - 8s 213ms/step - loss: 0.0040\n",
      "Epoch 14/100\n",
      "38/38 [==============================] - 8s 204ms/step - loss: 0.0037\n",
      "Epoch 15/100\n",
      "38/38 [==============================] - 10s 269ms/step - loss: 0.0044\n",
      "Epoch 16/100\n",
      "38/38 [==============================] - 8s 212ms/step - loss: 0.0036 1s - loss: \n",
      "Epoch 17/100\n",
      "38/38 [==============================] - 8s 223ms/step - loss: 0.0036\n",
      "Epoch 18/100\n",
      "38/38 [==============================] - 10s 250ms/step - loss: 0.0038\n",
      "Epoch 19/100\n",
      "38/38 [==============================] - 8s 207ms/step - loss: 0.0032\n",
      "Epoch 20/100\n",
      "38/38 [==============================] - 8s 222ms/step - loss: 0.0032\n",
      "Epoch 21/100\n",
      "38/38 [==============================] - 8s 211ms/step - loss: 0.0032\n",
      "Epoch 22/100\n",
      "38/38 [==============================] - 8s 215ms/step - loss: 0.0033\n",
      "Epoch 23/100\n",
      "38/38 [==============================] - 8s 210ms/step - loss: 0.0032\n",
      "Epoch 24/100\n",
      "38/38 [==============================] - 9s 231ms/step - loss: 0.0035\n",
      "Epoch 25/100\n",
      "38/38 [==============================] - 8s 214ms/step - loss: 0.0038\n",
      "Epoch 26/100\n",
      "38/38 [==============================] - 8s 215ms/step - loss: 0.0030\n",
      "Epoch 27/100\n",
      "38/38 [==============================] - 8s 213ms/step - loss: 0.0032\n",
      "Epoch 28/100\n",
      "38/38 [==============================] - 8s 213ms/step - loss: 0.0029\n",
      "Epoch 29/100\n",
      "38/38 [==============================] - 8s 211ms/step - loss: 0.0031\n",
      "Epoch 30/100\n",
      "38/38 [==============================] - 8s 216ms/step - loss: 0.0030\n",
      "Epoch 31/100\n",
      "38/38 [==============================] - 8s 212ms/step - loss: 0.0030\n",
      "Epoch 32/100\n",
      "38/38 [==============================] - 8s 217ms/step - loss: 0.0031\n",
      "Epoch 33/100\n",
      "38/38 [==============================] - 8s 213ms/step - loss: 0.0028\n",
      "Epoch 34/100\n",
      "38/38 [==============================] - 9s 224ms/step - loss: 0.0029\n",
      "Epoch 35/100\n",
      "38/38 [==============================] - 9s 234ms/step - loss: 0.0027\n",
      "Epoch 36/100\n",
      "38/38 [==============================] - 8s 220ms/step - loss: 0.0026\n",
      "Epoch 37/100\n",
      "38/38 [==============================] - 9s 229ms/step - loss: 0.0027\n",
      "Epoch 38/100\n",
      "38/38 [==============================] - 9s 241ms/step - loss: 0.0027\n",
      "Epoch 39/100\n",
      "38/38 [==============================] - 10s 255ms/step - loss: 0.0027\n",
      "Epoch 40/100\n",
      "38/38 [==============================] - 9s 232ms/step - loss: 0.0025\n",
      "Epoch 41/100\n",
      "38/38 [==============================] - 8s 221ms/step - loss: 0.0028\n",
      "Epoch 42/100\n",
      "38/38 [==============================] - 8s 212ms/step - loss: 0.0025\n",
      "Epoch 43/100\n",
      "38/38 [==============================] - 8s 217ms/step - loss: 0.0022\n",
      "Epoch 44/100\n",
      "38/38 [==============================] - 8s 219ms/step - loss: 0.0027\n",
      "Epoch 45/100\n",
      "38/38 [==============================] - 7s 188ms/step - loss: 0.0024\n",
      "Epoch 46/100\n",
      "38/38 [==============================] - 8s 203ms/step - loss: 0.0025\n",
      "Epoch 47/100\n",
      "38/38 [==============================] - 9s 235ms/step - loss: 0.0025\n",
      "Epoch 48/100\n",
      "38/38 [==============================] - 8s 212ms/step - loss: 0.0028\n",
      "Epoch 49/100\n",
      "38/38 [==============================] - 8s 223ms/step - loss: 0.0023\n",
      "Epoch 50/100\n",
      "38/38 [==============================] - 9s 238ms/step - loss: 0.0021\n",
      "Epoch 51/100\n",
      "38/38 [==============================] - 9s 237ms/step - loss: 0.0021\n",
      "Epoch 52/100\n",
      "38/38 [==============================] - 7s 192ms/step - loss: 0.0022\n",
      "Epoch 53/100\n",
      "38/38 [==============================] - 8s 215ms/step - loss: 0.0022\n",
      "Epoch 54/100\n",
      "38/38 [==============================] - 9s 231ms/step - loss: 0.0023\n",
      "Epoch 55/100\n",
      "38/38 [==============================] - 8s 218ms/step - loss: 0.0021\n",
      "Epoch 56/100\n",
      "38/38 [==============================] - 9s 224ms/step - loss: 0.0020\n",
      "Epoch 57/100\n",
      "38/38 [==============================] - 8s 211ms/step - loss: 0.0020\n",
      "Epoch 58/100\n",
      "38/38 [==============================] - 8s 206ms/step - loss: 0.0020\n",
      "Epoch 59/100\n",
      "38/38 [==============================] - 8s 210ms/step - loss: 0.0023\n",
      "Epoch 60/100\n",
      "38/38 [==============================] - 8s 201ms/step - loss: 0.0019\n",
      "Epoch 61/100\n",
      "38/38 [==============================] - 7s 197ms/step - loss: 0.0019\n",
      "Epoch 62/100\n",
      "38/38 [==============================] - 8s 204ms/step - loss: 0.0018\n",
      "Epoch 63/100\n",
      "38/38 [==============================] - 8s 209ms/step - loss: 0.0020\n",
      "Epoch 64/100\n",
      "38/38 [==============================] - 8s 199ms/step - loss: 0.0019\n",
      "Epoch 65/100\n",
      "38/38 [==============================] - 8s 208ms/step - loss: 0.0019\n",
      "Epoch 66/100\n",
      "38/38 [==============================] - 8s 216ms/step - loss: 0.0018\n",
      "Epoch 67/100\n",
      "38/38 [==============================] - 8s 223ms/step - loss: 0.0018\n",
      "Epoch 68/100\n",
      "38/38 [==============================] - 8s 199ms/step - loss: 0.0019\n",
      "Epoch 69/100\n",
      "38/38 [==============================] - 8s 222ms/step - loss: 0.0018\n",
      "Epoch 70/100\n",
      "38/38 [==============================] - 7s 193ms/step - loss: 0.0017\n",
      "Epoch 71/100\n",
      "38/38 [==============================] - 7s 187ms/step - loss: 0.0017\n",
      "Epoch 72/100\n",
      "38/38 [==============================] - 8s 198ms/step - loss: 0.0018\n",
      "Epoch 73/100\n",
      "38/38 [==============================] - 8s 212ms/step - loss: 0.0017\n",
      "Epoch 74/100\n",
      "38/38 [==============================] - 8s 203ms/step - loss: 0.0018\n",
      "Epoch 75/100\n",
      "38/38 [==============================] - 8s 203ms/step - loss: 0.0020\n",
      "Epoch 76/100\n",
      "38/38 [==============================] - 8s 205ms/step - loss: 0.0020\n",
      "Epoch 77/100\n",
      "38/38 [==============================] - 7s 191ms/step - loss: 0.0016\n",
      "Epoch 78/100\n",
      "38/38 [==============================] - 7s 189ms/step - loss: 0.0016\n",
      "Epoch 79/100\n",
      "38/38 [==============================] - 7s 189ms/step - loss: 0.0017\n",
      "Epoch 80/100\n",
      "38/38 [==============================] - 7s 194ms/step - loss: 0.0018\n",
      "Epoch 81/100\n",
      "38/38 [==============================] - 7s 191ms/step - loss: 0.0016\n",
      "Epoch 82/100\n",
      "38/38 [==============================] - 7s 190ms/step - loss: 0.0015\n",
      "Epoch 83/100\n",
      "38/38 [==============================] - 7s 190ms/step - loss: 0.0016\n",
      "Epoch 84/100\n",
      "38/38 [==============================] - 7s 188ms/step - loss: 0.0016\n",
      "Epoch 85/100\n",
      "38/38 [==============================] - 7s 192ms/step - loss: 0.0016\n",
      "Epoch 86/100\n",
      "38/38 [==============================] - 7s 187ms/step - loss: 0.0015\n",
      "Epoch 87/100\n",
      "38/38 [==============================] - 7s 191ms/step - loss: 0.0016\n",
      "Epoch 88/100\n",
      "38/38 [==============================] - 7s 190ms/step - loss: 0.0016\n",
      "Epoch 89/100\n",
      "38/38 [==============================] - 7s 194ms/step - loss: 0.0014\n",
      "Epoch 90/100\n",
      "38/38 [==============================] - 7s 192ms/step - loss: 0.0015\n",
      "Epoch 91/100\n",
      "38/38 [==============================] - 9s 228ms/step - loss: 0.0013\n",
      "Epoch 92/100\n",
      "38/38 [==============================] - 8s 218ms/step - loss: 0.0014\n",
      "Epoch 93/100\n",
      "38/38 [==============================] - 8s 212ms/step - loss: 0.0015\n",
      "Epoch 94/100\n",
      "38/38 [==============================] - 8s 210ms/step - loss: 0.0014\n",
      "Epoch 95/100\n",
      "38/38 [==============================] - 10s 253ms/step - loss: 0.0014\n",
      "Epoch 96/100\n",
      "38/38 [==============================] - 8s 216ms/step - loss: 0.0014\n",
      "Epoch 97/100\n",
      "38/38 [==============================] - 8s 205ms/step - loss: 0.0013\n",
      "Epoch 98/100\n",
      "38/38 [==============================] - 8s 202ms/step - loss: 0.0015\n",
      "Epoch 99/100\n"
     ]
    },
    {
     "name": "stdout",
     "output_type": "stream",
     "text": [
      "38/38 [==============================] - 7s 195ms/step - loss: 0.0013\n",
      "Epoch 100/100\n",
      "38/38 [==============================] - 9s 231ms/step - loss: 0.0014\n"
     ]
    },
    {
     "data": {
      "text/plain": [
       "<tensorflow.python.keras.callbacks.History at 0x7fc141753510>"
      ]
     },
     "execution_count": 19,
     "metadata": {},
     "output_type": "execute_result"
    }
   ],
   "source": [
    "rnn_model.fit(x = X_train,\n",
    "             y = y_train,\n",
    "             epochs = 100, \n",
    "              batch_size = 32)"
   ]
  },
  {
   "cell_type": "markdown",
   "metadata": {},
   "source": [
    "### Obtaining Google's real stock price in 2017"
   ]
  },
  {
   "cell_type": "code",
   "execution_count": 21,
   "metadata": {},
   "outputs": [],
   "source": [
    "dataset_test = pd.read_csv('Google_Stock_Price_Test.csv')\n",
    "real_stock_price = dataset_test.iloc[:, 1:2].values"
   ]
  },
  {
   "cell_type": "markdown",
   "metadata": {},
   "source": [
    "### Predicting Google's stock  price for each financial day of 2017"
   ]
  },
  {
   "cell_type": "code",
   "execution_count": 22,
   "metadata": {},
   "outputs": [],
   "source": [
    "# we need data from test set AND data from the training set\n",
    "# because we need 60 previous days\n",
    "# some of thse days will be in December 2016 and others\n",
    "# in January 2017 onwards\n",
    "dataset_total = pd.concat((dataset_train['Open'], dataset_test['Open']), axis = 0)\n",
    "\n",
    "# for each financial day, we need the stock prices of the 60\n",
    "# previous financial days\n",
    "# we will need our min index = 60 financial days before Jan. 3rd\n",
    "# our max index = 60 financial days before Jan 31st.\n",
    "inputs = dataset_total[len(dataset_total) - len(dataset_test) - 60:].values\n",
    "# we need our inputs to be formatted as a single column\n",
    "inputs = inputs.reshape(-1,1)\n",
    "# normalise our inputs to feed them to our RNN\n",
    "inputs = sc.transform(inputs)\n",
    "\n",
    "X_test = []\n",
    "for i in range(60, 80):\n",
    "    X_test.append(inputs[i-60:i, 0])\n",
    "X_test = np.array(X_test)\n",
    "X_test = np.reshape(X_test, (X_test.shape[0], X_test.shape[1], 1))\n",
    "\n",
    "\n",
    "predicted_stock_price = rnn_model.predict(X_test)\n",
    "predicted_stock_price = sc.inverse_transform(predicted_stock_price)"
   ]
  },
  {
   "cell_type": "markdown",
   "metadata": {},
   "source": [
    "### Visualizing results"
   ]
  },
  {
   "cell_type": "code",
   "execution_count": 23,
   "metadata": {},
   "outputs": [
    {
     "data": {
      "image/png": "[encoded data removed]",
      "text/plain": [
       "<Figure size 432x288 with 1 Axes>"
      ]
     },
     "metadata": {
      "needs_background": "light"
     },
     "output_type": "display_data"
    }
   ],
   "source": [
    "plt.plot(real_stock_price, \n",
    "        color = \"red\",\n",
    "        label = \"Real Stock Price\")\n",
    "plt.plot(predicted_stock_price, \n",
    "        color = \"blue\",\n",
    "        label = \"Predicted Stock Price\")\n",
    "plt.title('Google Stock Price Prediction')\n",
    "plt.xlabel('Time')\n",
    "plt.ylabel('Google Stock Price ($)')\n",
    "plt.legend()\n",
    "plt.show()\n"
   ]
  },
  {
   "cell_type": "markdown",
   "metadata": {},
   "source": [
    "### Model Diagnostics"
   ]
  },
  {
   "cell_type": "code",
   "execution_count": 31,
   "metadata": {},
   "outputs": [],
   "source": [
    "# Computing RMSE of our model predictions\n",
    "from math import sqrt\n",
    "from sklearn.metrics import mean_squared_error\n",
    "rmse = sqrt(mean_squared_error(real_stock_price, predicted_stock_price))"
   ]
  },
  {
   "cell_type": "markdown",
   "metadata": {},
   "source": [
    "Possible improvements to our model:\n",
    "- More training data\n",
    "\n",
    "- Increasing the number of timesteps "
   ]
  }
 ],
 "metadata": {
  "kernelspec": {
   "display_name": "Python 3",
   "language": "python",
   "name": "python3"
  },
  "language_info": {
   "codemirror_mode": {
    "name": "ipython",
    "version": 3
   },
   "file_extension": ".py",
   "mimetype": "text/x-python",
   "name": "python",
   "nbconvert_exporter": "python",
   "pygments_lexer": "ipython3",
   "version": "3.7.6"
  }
 },
 "nbformat": 4,
 "nbformat_minor": 4
}
