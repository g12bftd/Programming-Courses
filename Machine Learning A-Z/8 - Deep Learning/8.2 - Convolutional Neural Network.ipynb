{
 "cells": [
  {
   "cell_type": "markdown",
   "metadata": {},
   "source": [
    "### Understanding CNNs"
   ]
  },
  {
   "cell_type": "markdown",
   "metadata": {},
   "source": [
    "Input image -> CNN -> Output label (image class)"
   ]
  },
  {
   "cell_type": "markdown",
   "metadata": {},
   "source": [
    "Relate CNN to convolution of two integrable functions.\n",
    "\n",
    "Convolution:\n",
    "- Given an input image and a feature detector/filter, we can obtain a convolution (element-wise multiplication of matrices) and summing up the obtained result\n",
    "- The result is a feature map\n",
    "- In the simplest case, we have a \"stride\" or step-size of 1 pixel\n",
    "\n",
    "ReLU (rectified linear unit) layer:\n",
    "- Rectifier activation function: max(x, 0)\n",
    "- Adds non-linearity\n",
    "\n",
    "Max Pooling:\n",
    "- When recognizing features in an image the neural network should have flexibility in terms of recognizing distortions in said features\n",
    "- Different types of pooling: max, min, sum etc.\n",
    "- Pooling is a form of non-linear down-sampling or compression\n",
    "- Max pooling partitions the input image into a set of non-overlapping rectangles and for each sub-region, outputs the maximum value\n",
    "- Pooling layers serve to progressively reduce the spatial size of the representation, to reduce the number of parameters and computation needed in the network. It also controls overfitting.\n",
    "\n",
    "Flattening:\n",
    "- The process of converting all resultant 2D arrays into a single long continuous linear vector\n",
    "- This becomes useful for classification\n",
    "\n",
    "Full Connection:\n",
    "- Following the flattening process, we now have inputs for an artificial neural network\n",
    "- The goal is to classify the image (for example to identify what is being illustrated in the image)\n",
    "- Each classification is made with an associated probability\n",
    "- In CNNs, we have an associated loss function that measures how far off the prediction is from the truth\n",
    "- We use the cross-entropy function as our loss function\n",
    "- We then use backpropagation and otpmization techniques to yield optimal weights that will minimize the loss function\n",
    "\n",
    "\n",
    "SoftMax & Cross-Entropy:\n",
    "- Normally, in the classification process, the output could be any real values\n",
    "- We apply the softmax function to the output in order to normalize them to the (0, 1) range\n",
    "- Cross-entropy function acts as our objective function that needs to be minimized\n",
    "- \n"
   ]
  },
  {
   "cell_type": "markdown",
   "metadata": {},
   "source": [
    "### Importing libraries"
   ]
  },
  {
   "cell_type": "code",
   "execution_count": 4,
   "metadata": {},
   "outputs": [],
   "source": [
    "import tensorflow as tf\n",
    "from keras.preprocessing.image import ImageDataGenerator"
   ]
  },
  {
   "cell_type": "code",
   "execution_count": 5,
   "metadata": {},
   "outputs": [
    {
     "data": {
      "text/plain": [
       "'2.2.0'"
      ]
     },
     "execution_count": 5,
     "metadata": {},
     "output_type": "execute_result"
    }
   ],
   "source": [
    "tf.__version__"
   ]
  },
  {
   "cell_type": "markdown",
   "metadata": {},
   "source": [
    "### Pre-processing the training set"
   ]
  },
  {
   "cell_type": "code",
   "execution_count": 9,
   "metadata": {},
   "outputs": [
    {
     "name": "stdout",
     "output_type": "stream",
     "text": [
      "Found 8000 images belonging to 2 classes.\n"
     ]
    }
   ],
   "source": [
    "# Dataset contains 4000 pictures of cats & 4000 pictures of dogs\n",
    "# the goal is for our CNN to be able to recognize these\n",
    "# we pre-process the training set to limit overfitting\n",
    "\n",
    "# We apply geometric transformations:\n",
    "# Translations, rotations, zoom and flips\n",
    "# this is called image augmentation\n",
    "\n",
    "# train_datagen is an instance of ImageDataGenerator\n",
    "# rescale parameter is an example of feature scaling\n",
    "train_datagen = ImageDataGenerator(rescale = 1./255,\n",
    "                                   shear_range = 0.2,\n",
    "                                   zoom_range = 0.2,\n",
    "                                   horizontal_flip = True)\n",
    "\n",
    "# Import the training set\n",
    "# Re-size the images to reduce computational intensity\n",
    "# class mode is binary because we only have cat/dog outcome\n",
    "training_set = train_datagen.flow_from_directory('CNN dataset/training_set',\n",
    "                                                 target_size = (64, 64),\n",
    "                                                 batch_size = 32,\n",
    "                                                 class_mode = 'binary')"
   ]
  },
  {
   "cell_type": "markdown",
   "metadata": {},
   "source": [
    "### Pre-processing the test set"
   ]
  },
  {
   "cell_type": "code",
   "execution_count": 10,
   "metadata": {},
   "outputs": [
    {
     "name": "stdout",
     "output_type": "stream",
     "text": [
      "Found 2000 images belonging to 2 classes.\n"
     ]
    }
   ],
   "source": [
    "test_datagen = ImageDataGenerator(rescale = 1./255)\n",
    "test_set = test_datagen.flow_from_directory('CNN dataset/test_set',\n",
    "                                            target_size = (64, 64),\n",
    "                                            batch_size = 32,\n",
    "                                            class_mode = 'binary')"
   ]
  },
  {
   "cell_type": "markdown",
   "metadata": {},
   "source": [
    "### Initializing the CNN"
   ]
  },
  {
   "cell_type": "code",
   "execution_count": 11,
   "metadata": {},
   "outputs": [],
   "source": [
    "# we will again create the CNN as a sequence of layers \n",
    "# instead of computational graph\n",
    "\n",
    "cnn = tf.keras.models.Sequential()"
   ]
  },
  {
   "cell_type": "markdown",
   "metadata": {},
   "source": [
    "### Convolution"
   ]
  },
  {
   "cell_type": "code",
   "execution_count": 12,
   "metadata": {},
   "outputs": [],
   "source": [
    "# We add a 2D convolutional lyers\n",
    "# filter =  the number of output filters in the convolution\n",
    "# kernel_size = dimension of the convolution window\n",
    "# input_shape = we resized our images to (64, 64) with RGB encoding\n",
    "cnn.add(tf.keras.layers.Conv2D(filters=32, kernel_size=3, \n",
    "                               activation=\"relu\",\n",
    "                               input_shape=[64, 64, 3]))"
   ]
  },
  {
   "cell_type": "markdown",
   "metadata": {},
   "source": [
    "### Pooling"
   ]
  },
  {
   "cell_type": "code",
   "execution_count": 13,
   "metadata": {},
   "outputs": [],
   "source": [
    "cnn.add(tf.keras.layers.MaxPool2D(pool_size=2, strides=2))"
   ]
  },
  {
   "cell_type": "markdown",
   "metadata": {},
   "source": [
    "### Adding a second convolution layer"
   ]
  },
  {
   "cell_type": "code",
   "execution_count": 14,
   "metadata": {},
   "outputs": [],
   "source": [
    "cnn.add(tf.keras.layers.Conv2D(filters=32, kernel_size=3, activation='relu'))\n",
    "cnn.add(tf.keras.layers.MaxPool2D(pool_size=2, strides=2))"
   ]
  },
  {
   "cell_type": "markdown",
   "metadata": {},
   "source": [
    "### Flattening"
   ]
  },
  {
   "cell_type": "code",
   "execution_count": 15,
   "metadata": {},
   "outputs": [],
   "source": [
    "cnn.add(tf.keras.layers.Flatten()) \n",
    "# To produce a single continuous vector to serve as input\n",
    "# for our ANN"
   ]
  },
  {
   "cell_type": "markdown",
   "metadata": {},
   "source": [
    "### Full connection"
   ]
  },
  {
   "cell_type": "code",
   "execution_count": 16,
   "metadata": {},
   "outputs": [],
   "source": [
    "cnn.add(tf.keras.layers.Dense(units=128, activation='relu'))"
   ]
  },
  {
   "cell_type": "markdown",
   "metadata": {},
   "source": [
    "### Output layer"
   ]
  },
  {
   "cell_type": "code",
   "execution_count": 17,
   "metadata": {},
   "outputs": [],
   "source": [
    "cnn.add(tf.keras.layers.Dense(units=1, activation='sigmoid'))"
   ]
  },
  {
   "cell_type": "markdown",
   "metadata": {},
   "source": [
    "### Compiling the CNN"
   ]
  },
  {
   "cell_type": "code",
   "execution_count": 18,
   "metadata": {},
   "outputs": [],
   "source": [
    "cnn.compile(optimizer = 'adam', loss = 'binary_crossentropy', metrics = ['accuracy'])"
   ]
  },
  {
   "cell_type": "markdown",
   "metadata": {},
   "source": [
    "### Training and evaluating the CNN"
   ]
  },
  {
   "cell_type": "code",
   "execution_count": 19,
   "metadata": {},
   "outputs": [
    {
     "name": "stdout",
     "output_type": "stream",
     "text": [
      "Epoch 1/25\n",
      "250/250 [==============================] - 73s 293ms/step - loss: 0.6829 - accuracy: 0.5544 - val_loss: 0.6682 - val_accuracy: 0.5765\n",
      "Epoch 2/25\n",
      "250/250 [==============================] - 72s 289ms/step - loss: 0.6416 - accuracy: 0.6367 - val_loss: 0.5986 - val_accuracy: 0.6985\n",
      "Epoch 3/25\n",
      "250/250 [==============================] - 75s 299ms/step - loss: 0.5970 - accuracy: 0.6777 - val_loss: 0.5606 - val_accuracy: 0.7175\n",
      "Epoch 4/25\n",
      "250/250 [==============================] - 73s 293ms/step - loss: 0.5414 - accuracy: 0.7261 - val_loss: 0.5260 - val_accuracy: 0.7495\n",
      "Epoch 5/25\n",
      "250/250 [==============================] - 77s 309ms/step - loss: 0.5200 - accuracy: 0.7402 - val_loss: 0.5218 - val_accuracy: 0.7510\n",
      "Epoch 6/25\n",
      "250/250 [==============================] - 73s 292ms/step - loss: 0.4910 - accuracy: 0.7651 - val_loss: 0.4863 - val_accuracy: 0.7810\n",
      "Epoch 7/25\n",
      "250/250 [==============================] - 73s 293ms/step - loss: 0.4740 - accuracy: 0.7731 - val_loss: 0.5084 - val_accuracy: 0.7575\n",
      "Epoch 8/25\n",
      "250/250 [==============================] - 73s 291ms/step - loss: 0.4579 - accuracy: 0.7818 - val_loss: 0.5131 - val_accuracy: 0.7590\n",
      "Epoch 9/25\n",
      "250/250 [==============================] - 75s 300ms/step - loss: 0.4393 - accuracy: 0.7897 - val_loss: 0.5142 - val_accuracy: 0.7680\n",
      "Epoch 10/25\n",
      "250/250 [==============================] - 70s 280ms/step - loss: 0.4284 - accuracy: 0.8011 - val_loss: 0.4749 - val_accuracy: 0.7830\n",
      "Epoch 11/25\n",
      "250/250 [==============================] - 71s 285ms/step - loss: 0.4087 - accuracy: 0.8140 - val_loss: 0.4615 - val_accuracy: 0.7965\n",
      "Epoch 12/25\n",
      "250/250 [==============================] - 70s 278ms/step - loss: 0.4024 - accuracy: 0.8149 - val_loss: 0.5170 - val_accuracy: 0.7485\n",
      "Epoch 13/25\n",
      "250/250 [==============================] - 69s 276ms/step - loss: 0.3842 - accuracy: 0.8250 - val_loss: 0.4650 - val_accuracy: 0.7945\n",
      "Epoch 14/25\n",
      "250/250 [==============================] - 69s 278ms/step - loss: 0.3663 - accuracy: 0.8369 - val_loss: 0.4653 - val_accuracy: 0.8085\n",
      "Epoch 15/25\n",
      "250/250 [==============================] - 70s 279ms/step - loss: 0.3540 - accuracy: 0.8378 - val_loss: 0.6057 - val_accuracy: 0.7390\n",
      "Epoch 16/25\n",
      "250/250 [==============================] - 69s 277ms/step - loss: 0.3502 - accuracy: 0.8457 - val_loss: 0.4599 - val_accuracy: 0.7980\n",
      "Epoch 17/25\n",
      "250/250 [==============================] - 69s 276ms/step - loss: 0.3226 - accuracy: 0.8534 - val_loss: 0.4864 - val_accuracy: 0.8000\n",
      "Epoch 18/25\n",
      "250/250 [==============================] - 69s 276ms/step - loss: 0.3128 - accuracy: 0.8633 - val_loss: 0.4731 - val_accuracy: 0.7925\n",
      "Epoch 19/25\n",
      "250/250 [==============================] - 72s 287ms/step - loss: 0.3088 - accuracy: 0.8681 - val_loss: 0.4694 - val_accuracy: 0.8065\n",
      "Epoch 20/25\n",
      "250/250 [==============================] - 71s 286ms/step - loss: 0.2861 - accuracy: 0.8813 - val_loss: 0.4695 - val_accuracy: 0.8000\n",
      "Epoch 21/25\n",
      "250/250 [==============================] - 73s 290ms/step - loss: 0.2804 - accuracy: 0.8810 - val_loss: 0.4887 - val_accuracy: 0.8060\n",
      "Epoch 22/25\n",
      "250/250 [==============================] - 71s 285ms/step - loss: 0.2671 - accuracy: 0.8870 - val_loss: 0.4894 - val_accuracy: 0.8060\n",
      "Epoch 23/25\n",
      "250/250 [==============================] - 72s 287ms/step - loss: 0.2523 - accuracy: 0.8913 - val_loss: 0.5009 - val_accuracy: 0.8015\n",
      "Epoch 24/25\n",
      "250/250 [==============================] - 74s 295ms/step - loss: 0.2431 - accuracy: 0.9005 - val_loss: 0.5510 - val_accuracy: 0.7905\n",
      "Epoch 25/25\n",
      "250/250 [==============================] - 409s 2s/step - loss: 0.2424 - accuracy: 0.8982 - val_loss: 0.5279 - val_accuracy: 0.8160\n"
     ]
    },
    {
     "data": {
      "text/plain": [
       "<tensorflow.python.keras.callbacks.History at 0x7f93ce1db0d0>"
      ]
     },
     "execution_count": 19,
     "metadata": {},
     "output_type": "execute_result"
    }
   ],
   "source": [
    "cnn.fit(x = training_set, validation_data = test_set, epochs = 25)"
   ]
  },
  {
   "cell_type": "markdown",
   "metadata": {},
   "source": [
    "### Making a single prediction"
   ]
  },
  {
   "cell_type": "code",
   "execution_count": 25,
   "metadata": {},
   "outputs": [],
   "source": [
    "import numpy as np\n",
    "from tensorflow.keras.preprocessing import image\n",
    "test_image_dog = image.load_img('CNN dataset/single_prediction/cat_or_dog_1.jpg', target_size = (64, 64))\n",
    "test_image_dog = image.img_to_array(test_image_dog)\n",
    "test_image_dog = np.expand_dims(test_image_dog, axis = 0)\n",
    "result = cnn.predict(test_image_dog)\n",
    "training_set.class_indices\n",
    "if result[0][0] == 1:\n",
    "    prediction = \"dog\"\n",
    "else:\n",
    "    prediction = \"cat\""
   ]
  },
  {
   "cell_type": "code",
   "execution_count": 26,
   "metadata": {},
   "outputs": [
    {
     "name": "stdout",
     "output_type": "stream",
     "text": [
      "dog\n"
     ]
    }
   ],
   "source": [
    "print(prediction)"
   ]
  },
  {
   "cell_type": "code",
   "execution_count": 27,
   "metadata": {},
   "outputs": [],
   "source": [
    "test_image_cat = image.load_img('CNN dataset/single_prediction/cat_or_dog_2.jpg', target_size = (64, 64))\n",
    "test_image_cat = image.img_to_array(test_image_cat)\n",
    "test_image_cat = np.expand_dims(test_image_cat, axis = 0)\n",
    "result = cnn.predict(test_image_cat)\n",
    "training_set.class_indices\n",
    "if result[0][0] == 1:\n",
    "    prediction = \"dog\"\n",
    "else:\n",
    "    prediction = \"cat\""
   ]
  },
  {
   "cell_type": "code",
   "execution_count": 28,
   "metadata": {},
   "outputs": [
    {
     "name": "stdout",
     "output_type": "stream",
     "text": [
      "dog\n"
     ]
    }
   ],
   "source": [
    "print(prediction)"
   ]
  },
  {
   "cell_type": "code",
   "execution_count": null,
   "metadata": {},
   "outputs": [],
   "source": []
  }
 ],
 "metadata": {
  "kernelspec": {
   "display_name": "Python 3",
   "language": "python",
   "name": "python3"
  },
  "language_info": {
   "codemirror_mode": {
    "name": "ipython",
    "version": 3
   },
   "file_extension": ".py",
   "mimetype": "text/x-python",
   "name": "python",
   "nbconvert_exporter": "python",
   "pygments_lexer": "ipython3",
   "version": "3.7.6"
  }
 },
 "nbformat": 4,
 "nbformat_minor": 4
}
